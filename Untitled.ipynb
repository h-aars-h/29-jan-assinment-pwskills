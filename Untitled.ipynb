{
 "cells": [
  {
   "cell_type": "raw",
   "id": "f361a9d0-a71c-4133-8b31-56e5a7a963c8",
   "metadata": {},
   "source": [
    " Q1. Who doveloped python Programmin Language? "
   ]
  },
  {
   "cell_type": "raw",
   "id": "2f1b873c-a6e2-439d-b28b-72406d9d0ad0",
   "metadata": {},
   "source": [
    "Ans1 = Guido van Rossum was develoop in 1970."
   ]
  },
  {
   "cell_type": "raw",
   "id": "3b7fd381-b009-4fc5-b5b4-66305ee99a4e",
   "metadata": {},
   "source": [
    "Q2. Which type of programming does python support?"
   ]
  },
  {
   "cell_type": "raw",
   "id": "5a88214e-19fb-4bc5-9598-1145952f36b6",
   "metadata": {},
   "source": [
    "Ans2 = python programming language is a high level programming language and supports oops(object orianted progamming language ) concept."
   ]
  },
  {
   "cell_type": "raw",
   "id": "d208bce5-5393-4f21-8f26-5f47a88312e8",
   "metadata": {},
   "source": [
    "Q3. Is python case sensitive when dealing with identifiers?"
   ]
  },
  {
   "cell_type": "raw",
   "id": "6a8f4fa6-b2f4-4772-aa66-49e70c31227f",
   "metadata": {},
   "source": [
    "Ans3 = Yes Python is case sensitive when dealing with identifiers."
   ]
  },
  {
   "cell_type": "raw",
   "id": "13f89cf7-19bb-4acf-8240-8957240cf81e",
   "metadata": {},
   "source": [
    "Q4. What is the correct extension of the python."
   ]
  },
  {
   "cell_type": "raw",
   "id": "a48a8aa2-75c4-410c-91b8-744b795035c8",
   "metadata": {},
   "source": [
    "Ans4 = .py "
   ]
  },
  {
   "cell_type": "raw",
   "id": "005789cb-7533-4cfe-a414-6e641b056f30",
   "metadata": {},
   "source": [
    "Q5. Is python code compiiad or interpreted?"
   ]
  },
  {
   "cell_type": "raw",
   "id": "ed806ed1-d6bb-4f9b-958f-4816428b469b",
   "metadata": {},
   "source": [
    "Ans5 = python code is an interpreted and it's both compiled as well as an interpreted supports."
   ]
  },
  {
   "cell_type": "raw",
   "id": "82925031-3b5f-48fc-85a2-6c0e7711b906",
   "metadata": {},
   "source": [
    "Q6. Name a few blocks  of code used to define in python language?"
   ]
  },
  {
   "cell_type": "raw",
   "id": "25af4077-e2e4-4f78-a65a-c8ba2f164065",
   "metadata": {
    "tags": []
   },
   "source": [
    "Ans6 = () is called parentheses.\n",
    "{} curly braces this is used in sets and tupple. \n",
    "[] Index brackets this is used in list and for indexing.\n"
   ]
  },
  {
   "cell_type": "raw",
   "id": "db1d7774-8796-4654-be3c-2ee46f5102f4",
   "metadata": {},
   "source": [
    "Q7. State a character used to give single-line comments in python ?"
   ]
  },
  {
   "cell_type": "raw",
   "id": "cb6a7490-04db-468b-ac1a-642e4c48a007",
   "metadata": {},
   "source": [
    "Ans7 = # this is used for the single line comments in python."
   ]
  },
  {
   "cell_type": "raw",
   "id": "87149c1d-2b11-4b6f-ae07-6f8ad3cda205",
   "metadata": {},
   "source": [
    "Q8. Mention functions which can help us to find the version of python that we are currently working on?"
   ]
  },
  {
   "cell_type": "raw",
   "id": "e759a64e-2849-4261-b166-2306e76e91b8",
   "metadata": {},
   "source": [
    "Ans8 = sys.version"
   ]
  },
  {
   "cell_type": "raw",
   "id": "d5db5856-8fc0-4027-8762-d6cc0987b76b",
   "metadata": {},
   "source": [
    "Q9. Python supports the creation of anonymous functions at runtime, using a construct called __________?"
   ]
  },
  {
   "cell_type": "raw",
   "id": "931331ec-1c03-4c99-aad8-afd3e8208ec0",
   "metadata": {},
   "source": [
    "Ans 9 = Lambda function "
   ]
  },
  {
   "cell_type": "raw",
   "id": "376b8057-99d9-47bc-a44f-35f20a28f3f6",
   "metadata": {},
   "source": [
    "Q10. what does Pip is stands for python? "
   ]
  },
  {
   "cell_type": "raw",
   "id": "859051b8-107c-4f07-9dc6-884325a9a4fa",
   "metadata": {},
   "source": [
    "Ans10 = Pip(Preferred Installer Program) this is using for installing module and packages. "
   ]
  },
  {
   "cell_type": "raw",
   "id": "62d6b4ab-a80a-4ff2-97fb-5235d60b1190",
   "metadata": {},
   "source": [
    "Q11 .Mention few built in function in Python?"
   ]
  },
  {
   "cell_type": "raw",
   "id": "d0d8b88e-6448-4176-8c3f-bcd32830e8a7",
   "metadata": {},
   "source": [
    "Ans11 = input() int() bool() type() sum() "
   ]
  },
  {
   "cell_type": "raw",
   "id": "59737c03-85e9-4ee3-ac83-474811b4b8cb",
   "metadata": {},
   "source": [
    "Q12.\tWhat is the maximum possible length of an identifier in Python?"
   ]
  },
  {
   "cell_type": "raw",
   "id": "55034a92-fcab-49ba-80cd-73bd2d9cf113",
   "metadata": {},
   "source": [
    "Ans12 =  79 characters."
   ]
  },
  {
   "cell_type": "raw",
   "id": "1842ca68-8522-4e4f-982a-04bd037fd6c0",
   "metadata": {},
   "source": [
    "Q13. What are the benefits of using Python?"
   ]
  },
  {
   "cell_type": "raw",
   "id": "6b95d609-9e23-44e6-8f35-89b44f958943",
   "metadata": {},
   "source": [
    "Ans13 = There are many reasons to uses of python.because easy to learn and many built in module and funtion availabel In a data science mostly used language is python.  "
   ]
  },
  {
   "cell_type": "raw",
   "id": "2a10f0a9-ebeb-4e18-932d-8dba9d925ed1",
   "metadata": {},
   "source": [
    "Q14 14.\tHow is memory managed in Python?"
   ]
  },
  {
   "cell_type": "raw",
   "id": "171ddf3e-2d83-494f-b29a-7998744c2860",
   "metadata": {},
   "source": [
    "Ans14 = All Python objects and data structures are located in a private heap."
   ]
  },
  {
   "cell_type": "raw",
   "id": "67f3eb2e-840c-40ba-903b-7f0d37b4cb91",
   "metadata": {},
   "source": [
    "Q15.How to install Python on Windows and set path variables?"
   ]
  },
  {
   "cell_type": "raw",
   "id": "2c86f2a5-a248-4a9f-aef4-7380ccb608da",
   "metadata": {},
   "source": [
    "Ans15 = The complete path of python.exe can be added by:\n",
    "Right-clicking This PC and going to Properties.\n",
    "Clicking on the Advanced system settings in the menu on the left.\n",
    "Clicking on the Environment Variables button on the bottom right.\n",
    "In the System variables section, selecting the Path variable and clicking on Edit. The next screen will show all the directories that are currently a part of the PATH variable.\n",
    "Clicking on New and entering Python’s install directory.\n",
    "Python can now be used directly from the command prompt without having to write its location. Try executing the command python --version; it will output the version of Python installed on your system."
   ]
  },
  {
   "cell_type": "raw",
   "id": "c106f620-25a3-4e8c-9940-fa18c66e9c0f",
   "metadata": {},
   "source": [
    "Q16. Is indentation required in python?"
   ]
  },
  {
   "cell_type": "raw",
   "id": "659988df-f0f7-488f-89d3-4ca72943363e",
   "metadata": {},
   "source": [
    "Ans16 = the indentation in Python is very important. Python uses indentation to indicate a block of code.\n",
    "the four spaces is to make indentation ."
   ]
  }
 ],
 "metadata": {
  "kernelspec": {
   "display_name": "Python 3 (ipykernel)",
   "language": "python",
   "name": "python3"
  },
  "language_info": {
   "codemirror_mode": {
    "name": "ipython",
    "version": 3
   },
   "file_extension": ".py",
   "mimetype": "text/x-python",
   "name": "python",
   "nbconvert_exporter": "python",
   "pygments_lexer": "ipython3",
   "version": "3.10.6"
  }
 },
 "nbformat": 4,
 "nbformat_minor": 5
}
