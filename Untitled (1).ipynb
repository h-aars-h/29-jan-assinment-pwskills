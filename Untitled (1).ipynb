{
 "cells": [
  {
   "cell_type": "code",
   "execution_count": null,
   "id": "6a43c644-8b3b-4cfc-8bcf-4a77b99363c2",
   "metadata": {},
   "outputs": [],
   "source": [
    " # Q1. Who doveloped python Programmin Language? "
   ]
  },
  {
   "cell_type": "code",
   "execution_count": null,
   "id": "763457d3-0d21-4f8e-9a99-6c474a7fcd73",
   "metadata": {},
   "outputs": [],
   "source": [
    "# Ans1 = Guido van Rossum was develoop in 1970."
   ]
  },
  {
   "cell_type": "code",
   "execution_count": null,
   "id": "e5fc3928-5e7c-4163-b265-f373ed9b196d",
   "metadata": {},
   "outputs": [],
   "source": [
    "# Q2. Which type of programming does python support?"
   ]
  },
  {
   "cell_type": "code",
   "execution_count": null,
   "id": "9eacdfb1-fc3f-4b97-9a94-f0ca8c594894",
   "metadata": {},
   "outputs": [],
   "source": [
    "# Ans2 = python programming language is a high level programming language and supports oops(object orianted progamming language ) concept."
   ]
  },
  {
   "cell_type": "code",
   "execution_count": null,
   "id": "39ca89c1-610b-44f2-ade0-21628d58f50c",
   "metadata": {},
   "outputs": [],
   "source": [
    "# Q3. Is python case sensitive when dealing with identifiers?"
   ]
  },
  {
   "cell_type": "code",
   "execution_count": null,
   "id": "658cf412-4070-4168-a3f4-92e8064dd05d",
   "metadata": {},
   "outputs": [],
   "source": [
    "# Ans3 = Yes Python is case sensitive when dealing with identifiers."
   ]
  },
  {
   "cell_type": "code",
   "execution_count": null,
   "id": "341c027a-c62c-4002-a45d-2e3e436d7d8f",
   "metadata": {},
   "outputs": [],
   "source": [
    "# Q4. What is the correct extension of the python."
   ]
  },
  {
   "cell_type": "code",
   "execution_count": null,
   "id": "0286545a-de4a-401e-8ba6-0fd8d9e5aa12",
   "metadata": {},
   "outputs": [],
   "source": [
    "# Ans4 = .py "
   ]
  },
  {
   "cell_type": "code",
   "execution_count": null,
   "id": "40e72931-af4e-4890-bdc4-95f0c976b556",
   "metadata": {},
   "outputs": [],
   "source": [
    "# Q5. Is python code compiiad or interpreted?"
   ]
  },
  {
   "cell_type": "code",
   "execution_count": null,
   "id": "db09fc9d-0abb-4c9b-afef-13780e9f7a2a",
   "metadata": {},
   "outputs": [],
   "source": [
    "# Ans5 = python code is an interpreted and it's both compiled as well as an interpreted supports."
   ]
  },
  {
   "cell_type": "code",
   "execution_count": null,
   "id": "afe3df1d-785f-4b2d-b72d-5fb1293220b9",
   "metadata": {},
   "outputs": [],
   "source": [
    "# Q6. Name a few blocks  of code used to define in python language?"
   ]
  },
  {
   "cell_type": "code",
   "execution_count": 17,
   "id": "1aab52c7-d911-41c2-b7cd-d4f4ab011270",
   "metadata": {
    "tags": []
   },
   "outputs": [],
   "source": [
    "# Ans6 = () is called parentheses.\n",
    "# {} curly braces this is used in sets and tupple. \n",
    "# [] Index brackets this is used in list and for indexing.\n"
   ]
  },
  {
   "cell_type": "code",
   "execution_count": null,
   "id": "c0fc2f67-35b9-4574-859b-5ef69a3488a4",
   "metadata": {},
   "outputs": [],
   "source": [
    "# Q7. State a character used to give single-line comments in python ?"
   ]
  },
  {
   "cell_type": "code",
   "execution_count": null,
   "id": "2561f3a4-8570-4d3e-8d42-9b8235d1213e",
   "metadata": {},
   "outputs": [],
   "source": [
    "# Ans7 = this is used for the single line comments in python."
   ]
  },
  {
   "cell_type": "code",
   "execution_count": null,
   "id": "1b3d62e5-d504-4271-a0a9-0fb6a4c8eaa9",
   "metadata": {},
   "outputs": [],
   "source": [
    "# Q8. Mention functions which can help us to find the version of python that we are currently working on?"
   ]
  },
  {
   "cell_type": "code",
   "execution_count": null,
   "id": "3f7add69-6428-4de1-b313-b05ceed558f0",
   "metadata": {},
   "outputs": [],
   "source": [
    "# Ans8 = sys.version"
   ]
  },
  {
   "cell_type": "code",
   "execution_count": null,
   "id": "b791534e-f5ae-4253-b186-527f75fbcc8c",
   "metadata": {},
   "outputs": [],
   "source": [
    "# Q9. Python supports the creation of anonymous functions at runtime, using a construct called __________?"
   ]
  },
  {
   "cell_type": "code",
   "execution_count": null,
   "id": "d59d7096-0774-4a71-96b6-fba4e50e467b",
   "metadata": {},
   "outputs": [],
   "source": [
    "# Ans 9 = Lambda function "
   ]
  },
  {
   "cell_type": "code",
   "execution_count": null,
   "id": "9f335d78-10a3-479b-8e59-26a1212ab9d0",
   "metadata": {},
   "outputs": [],
   "source": [
    "# Q10. what does Pip is stands for python? "
   ]
  },
  {
   "cell_type": "code",
   "execution_count": null,
   "id": "90ee62c6-1bd4-4a81-ba27-2cdac4de2927",
   "metadata": {},
   "outputs": [],
   "source": [
    "# Ans10 = Pip(Preferred Installer Program) this is using for installing module and packages. "
   ]
  },
  {
   "cell_type": "code",
   "execution_count": null,
   "id": "abc26720-87ce-43c1-a2e0-cacec75b985b",
   "metadata": {},
   "outputs": [],
   "source": [
    "# Q11 .Mention few built in function in Python?"
   ]
  },
  {
   "cell_type": "code",
   "execution_count": null,
   "id": "f8952c33-b3ab-458b-8d03-874d945845be",
   "metadata": {},
   "outputs": [],
   "source": [
    "# Ans11 = input() int() bool() type() sum() "
   ]
  },
  {
   "cell_type": "code",
   "execution_count": null,
   "id": "e39f96df-afcf-4602-86da-fb37402120ed",
   "metadata": {},
   "outputs": [],
   "source": [
    "# Q12.\tWhat is the maximum possible length of an identifier in Python?"
   ]
  },
  {
   "cell_type": "code",
   "execution_count": null,
   "id": "cacd447d-723f-464c-93b3-a186795fafbf",
   "metadata": {},
   "outputs": [],
   "source": [
    "# Ans12 =  79 characters."
   ]
  },
  {
   "cell_type": "code",
   "execution_count": null,
   "id": "9cb476dd-0184-46d7-bc95-0efb1f8a4e16",
   "metadata": {},
   "outputs": [],
   "source": [
    "# Q13. What are the benefits of using Python?"
   ]
  },
  {
   "cell_type": "code",
   "execution_count": null,
   "id": "17c7bbb3-730b-4b02-a5b4-044d2fd87a24",
   "metadata": {},
   "outputs": [],
   "source": [
    "# Ans13 = There are many reasons to uses of python.because easy to learn and many built in module and funtion availabel In a data science mostly used language is python.  "
   ]
  },
  {
   "cell_type": "code",
   "execution_count": null,
   "id": "a1bc9cb3-8718-4d9f-a59d-c861f5e677a6",
   "metadata": {},
   "outputs": [],
   "source": [
    "# Q14 14.\tHow is memory managed in Python?"
   ]
  },
  {
   "cell_type": "code",
   "execution_count": null,
   "id": "79ed9c53-fbfb-43d4-b638-0970fbd39f3f",
   "metadata": {},
   "outputs": [],
   "source": [
    "# Ans14 = All Python objects and data structures are located in a private heap."
   ]
  },
  {
   "cell_type": "code",
   "execution_count": null,
   "id": "3d84253d-2569-486b-8f82-8b442b4bd990",
   "metadata": {},
   "outputs": [],
   "source": [
    "# Q15.How to install Python on Windows and set path variables?"
   ]
  },
  {
   "cell_type": "code",
   "execution_count": null,
   "id": "e8d68253-c848-41a7-a4f9-4c96a741296c",
   "metadata": {},
   "outputs": [],
   "source": [
    "# Ans15 = The complete path of python.exe can be added by:\n",
    "# Right-clicking This PC and going to Properties.\n",
    "# Clicking on the Advanced system settings in the menu on the left.\n",
    "# Clicking on the Environment Variables button on the bottom right.\n",
    "# In the System variables section, selecting the Path variable and clicking on Edit. The next screen will show all the directories that are currently a part of the PATH variable.\n",
    "# Clicking on New and entering Python’s install directory.\n",
    "# Python can now be used directly from the command prompt without having to write its location. Try executing the command python --version; it will output the version of Python installed on your system."
   ]
  },
  {
   "cell_type": "code",
   "execution_count": null,
   "id": "25b8572f-9ba4-4bb2-a96e-c0d02c3f2a56",
   "metadata": {},
   "outputs": [],
   "source": [
    "# Q16. Is indentation required in python?"
   ]
  },
  {
   "cell_type": "code",
   "execution_count": null,
   "id": "af04c429-1a79-4539-a429-40517c49aec7",
   "metadata": {},
   "outputs": [],
   "source": [
    "# Ans16 = the indentation in Python is very important. Python uses indentation to indicate a block of code.\n",
    "# the four spaces is to make indentation ."
   ]
  }
 ],
 "metadata": {
  "kernelspec": {
   "display_name": "Python 3 (ipykernel)",
   "language": "python",
   "name": "python3"
  },
  "language_info": {
   "codemirror_mode": {
    "name": "ipython",
    "version": 3
   },
   "file_extension": ".py",
   "mimetype": "text/x-python",
   "name": "python",
   "nbconvert_exporter": "python",
   "pygments_lexer": "ipython3",
   "version": "3.10.6"
  }
 },
 "nbformat": 4,
 "nbformat_minor": 5
}
